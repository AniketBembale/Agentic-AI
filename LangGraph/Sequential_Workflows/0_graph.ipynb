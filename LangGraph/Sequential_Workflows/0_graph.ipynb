{
 "cells": [
  {
   "cell_type": "code",
   "execution_count": 15,
   "id": "edb36263",
   "metadata": {},
   "outputs": [],
   "source": [
    "from langgraph.graph import StateGraph,START,END\n",
    "from typing import TypedDict"
   ]
  },
  {
   "cell_type": "code",
   "execution_count": 16,
   "id": "dfb9263f",
   "metadata": {},
   "outputs": [],
   "source": [
    "class bmiState(TypedDict):\n",
    "    height: float\n",
    "    weight: float\n",
    "    bmi: float\n",
    "    category: str"
   ]
  },
  {
   "cell_type": "code",
   "execution_count": 17,
   "id": "192dfd68",
   "metadata": {},
   "outputs": [],
   "source": [
    "def bmical(state:bmiState) -> bmiState:\n",
    "    weight = state[\"weight\"]\n",
    "    height = state[\"height\"]\n",
    "    bmi = weight / (height ** 2)\n",
    "    state[\"bmi\"] = bmi\n",
    "    return state"
   ]
  },
  {
   "cell_type": "code",
   "execution_count": 18,
   "id": "d5343043",
   "metadata": {},
   "outputs": [],
   "source": [
    "def categorize_bmi(state:bmiState) -> bmiState:\n",
    "    bmi = state[\"bmi\"]\n",
    "    if bmi < 18.5:\n",
    "        category = \"Underweight\"\n",
    "    elif 18.5 <= bmi < 24.9:\n",
    "        category = \"Normal weight\"\n",
    "    elif 25 <= bmi < 29.9:\n",
    "        category = \"Overweight\"\n",
    "    else:\n",
    "        category = \"Obesity\"\n",
    "    state[\"category\"] = category\n",
    "    return state"
   ]
  },
  {
   "cell_type": "code",
   "execution_count": 19,
   "id": "9557506b",
   "metadata": {},
   "outputs": [],
   "source": [
    "graph = StateGraph(bmiState)\n",
    "graph.add_node(\"bmi\",bmical)\n",
    "graph.add_node(\"category\",categorize_bmi)\n",
    "\n",
    "\n",
    "graph.add_edge(START,\"bmi\")\n",
    "graph.add_edge(\"bmi\",\"category\")\n",
    "graph.add_edge(\"category\",END)\n",
    "\n",
    "workflow = graph.compile()\n",
    "initial_state = {\"height\":1.75,\"weight\":70}"
   ]
  },
  {
   "cell_type": "code",
   "execution_count": 25,
   "id": "5e3a8279",
   "metadata": {},
   "outputs": [
    {
     "data": {
      "image/png": "[encoded data removed]",
      "text/plain": [
       "<IPython.core.display.Image object>"
      ]
     },
     "metadata": {},
     "output_type": "display_data"
    }
   ],
   "source": [
    "from IPython.display import Image, display\n",
    "\n",
    "\n",
    "display(Image(workflow.get_graph().draw_mermaid_png()))"
   ]
  },
  {
   "cell_type": "code",
   "execution_count": 26,
   "id": "c1c5080d",
   "metadata": {},
   "outputs": [
    {
     "data": {
      "text/plain": [
       "{'height': 1.75,\n",
       " 'weight': 70,\n",
       " 'bmi': 22.857142857142858,\n",
       " 'category': 'Normal weight'}"
      ]
     },
     "execution_count": 26,
     "metadata": {},
     "output_type": "execute_result"
    }
   ],
   "source": [
    "workflow.invoke(initial_state)"
   ]
  },
  {
   "cell_type": "code",
   "execution_count": null,
   "id": "c7eecaac",
   "metadata": {},
   "outputs": [],
   "source": []
  }
 ],
 "metadata": {
  "kernelspec": {
   "display_name": "Agent",
   "language": "python",
   "name": "python3"
  },
  "language_info": {
   "codemirror_mode": {
    "name": "ipython",
    "version": 3
   },
   "file_extension": ".py",
   "mimetype": "text/x-python",
   "name": "python",
   "nbconvert_exporter": "python",
   "pygments_lexer": "ipython3",
   "version": "3.10.18"
  }
 },
 "nbformat": 4,
 "nbformat_minor": 5
}
