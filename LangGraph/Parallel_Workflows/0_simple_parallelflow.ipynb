{
 "cells": [
  {
   "cell_type": "code",
   "execution_count": 57,
   "id": "0ce9aa0a",
   "metadata": {},
   "outputs": [],
   "source": [
    "from langgraph.graph import StateGraph,START,END\n",
    "from typing import TypedDict,Annotated\n",
    "from IPython.display import display, Image\n",
    "import operator"
   ]
  },
  {
   "cell_type": "code",
   "execution_count": null,
   "id": "55ccca4b",
   "metadata": {},
   "outputs": [],
   "source": [
    "class CurrencyState(TypedDict):\n",
    "    EUR: float\n",
    "    USD: float\n",
    "    # INR: float\n",
    "    INR:Annotated[float, operator.add] # because we are using INR in multiple nodes so we need to use Annotated to avoid InvalidUpdateError\n"
   ]
  },
  {
   "cell_type": "code",
   "execution_count": 66,
   "id": "d0f44052",
   "metadata": {},
   "outputs": [],
   "source": [
    "def convert_inr_to_eur(state: CurrencyState) -> CurrencyState:\n",
    "    state['EUR'] = state['INR'] / 90.0\n",
    "    return state"
   ]
  },
  {
   "cell_type": "code",
   "execution_count": 67,
   "id": "a78ba758",
   "metadata": {},
   "outputs": [],
   "source": [
    "def convert_inr_to_usd(state: CurrencyState) -> CurrencyState:\n",
    "    state['USD'] = state['INR'] / 80.0\n",
    "    return state"
   ]
  },
  {
   "cell_type": "code",
   "execution_count": 68,
   "id": "0f867fb6",
   "metadata": {},
   "outputs": [],
   "source": [
    "graph = StateGraph(CurrencyState)"
   ]
  },
  {
   "cell_type": "code",
   "execution_count": 69,
   "id": "0c6dab7c",
   "metadata": {},
   "outputs": [],
   "source": [
    "graph.add_node(\"INR_to_EUR\", convert_inr_to_eur)\n",
    "graph.add_node(\"INR_to_USD\", convert_inr_to_usd)\n",
    "\n",
    "\n",
    "graph.add_edge(START, \"INR_to_EUR\")\n",
    "graph.add_edge(START, \"INR_to_USD\")\n",
    "graph.add_edge(\"INR_to_EUR\", END)\n",
    "graph.add_edge(\"INR_to_USD\", END)\n",
    "\n",
    "workflow =   graph.compile()"
   ]
  },
  {
   "cell_type": "code",
   "execution_count": 70,
   "id": "c7541cd3",
   "metadata": {},
   "outputs": [
    {
     "data": {
      "image/png": "[encoded data removed]",
      "text/plain": [
       "<IPython.core.display.Image object>"
      ]
     },
     "metadata": {},
     "output_type": "display_data"
    }
   ],
   "source": [
    "display(Image(workflow.get_graph().draw_mermaid_png()))"
   ]
  },
  {
   "cell_type": "code",
   "execution_count": 71,
   "id": "1db35884",
   "metadata": {},
   "outputs": [
    {
     "name": "stdout",
     "output_type": "stream",
     "text": [
      "{'EUR': 80.0, 'USD': 90.0, 'INR': 21600.0}\n"
     ]
    }
   ],
   "source": [
    "initial_state = {'INR': 7200.0}\n",
    "result = workflow.invoke(initial_state)\n",
    "print(result)"
   ]
  },
  {
   "cell_type": "code",
   "execution_count": null,
   "id": "9d521813",
   "metadata": {},
   "outputs": [],
   "source": []
  }
 ],
 "metadata": {
  "kernelspec": {
   "display_name": "Agent",
   "language": "python",
   "name": "python3"
  },
  "language_info": {
   "codemirror_mode": {
    "name": "ipython",
    "version": 3
   },
   "file_extension": ".py",
   "mimetype": "text/x-python",
   "name": "python",
   "nbconvert_exporter": "python",
   "pygments_lexer": "ipython3",
   "version": "3.10.18"
  }
 },
 "nbformat": 4,
 "nbformat_minor": 5
}
