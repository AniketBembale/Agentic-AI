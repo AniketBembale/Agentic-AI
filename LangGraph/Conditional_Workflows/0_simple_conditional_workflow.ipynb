{
 "cells": [
  {
   "cell_type": "code",
   "execution_count": 20,
   "id": "54bb84b9",
   "metadata": {},
   "outputs": [],
   "source": [
    "from langgraph.graph import StateGraph,START,END\n",
    "from typing import TypedDict,Annotated,Literal\n",
    "from IPython.display import display, Image\n",
    "import operator\n",
    "from dotenv import load_dotenv\n",
    "import os\n",
    "from langchain_google_genai import ChatGoogleGenerativeAI\n",
    "load_dotenv()\n",
    "from pydantic import BaseModel, Field\n"
   ]
  },
  {
   "cell_type": "code",
   "execution_count": 21,
   "id": "e575841c",
   "metadata": {},
   "outputs": [],
   "source": [
    "model = ChatGoogleGenerativeAI(\n",
    "    model=\"gemini-2.5-flash\",\n",
    "    temperature=0,\n",
    "    max_tokens=None,\n",
    "    timeout=None,\n",
    "    max_retries=2,\n",
    "    # other params...\n",
    ")"
   ]
  },
  {
   "cell_type": "code",
   "execution_count": 22,
   "id": "e3e7b247",
   "metadata": {},
   "outputs": [],
   "source": [
    "class QuestionCategory(BaseModel):\n",
    "    department: Literal[\"HR\", \"Tech Support\"]\n",
    "    issue_summary: str = Field(description=\"A brief summary of the user's issue or query\")"
   ]
  },
  {
   "cell_type": "code",
   "execution_count": 23,
   "id": "163a7eae",
   "metadata": {},
   "outputs": [],
   "source": [
    "# class HR_Response_Schema(BaseModel):\n",
    "#     hr_query_category: Literal[\"Leave Policy\", \"Payroll\", \"Recruitment\", \"Compliance\", \"Other\"] = Field(\n",
    "#         description=\"Specific HR-related category of the user query\"\n",
    "#     )"
   ]
  },
  {
   "cell_type": "code",
   "execution_count": 24,
   "id": "5945af3b",
   "metadata": {},
   "outputs": [],
   "source": [
    "# class Tech_Response_Schema(BaseModel):\n",
    "#     tech_query_category: Literal[\"Infrastructure\", \"Software Bug\", \"DevOps\", \"Data\", \"Other\"] = Field(\n",
    "#         description=\"Specific technical category of the user query\"\n",
    "#     )\n",
    "#     urgency: Literal[\"low\", \"medium\", \"high\"] = Field(\n",
    "#         description=\"How urgent the technical query appears to be\"\n",
    "#     )\n",
    "#     complexity: Literal[\"simple\", \"moderate\", \"complexx\"] = Field(\n",
    "#         description=\"Estimated complexity of resolving the technical query\"\n",
    "#     )"
   ]
  },
  {
   "cell_type": "code",
   "execution_count": 25,
   "id": "17d55a0b",
   "metadata": {},
   "outputs": [],
   "source": [
    "structured_model = model.with_structured_output(QuestionCategory) \n",
    "# structured_model_hr = model.with_structured_output(HR_Response_Schema)\n",
    "# structured_model_tech  = model.with_structured_output(Tech_Response_Schema)"
   ]
  },
  {
   "cell_type": "code",
   "execution_count": 26,
   "id": "ea74fe27",
   "metadata": {},
   "outputs": [],
   "source": [
    "# user_query = \"In my project, the deployment pipeline is failing during the build stage. Can you help? because I have an urgent deadline.\"\n",
    "# result = structured_model_dept_class.invoke(user_query)\n",
    "# result"
   ]
  },
  {
   "cell_type": "code",
   "execution_count": 27,
   "id": "c788498f",
   "metadata": {},
   "outputs": [],
   "source": [
    "class QuerysolverState(TypedDict):\n",
    "    query_summary: str\n",
    "    query: str\n",
    "    department: Literal[\"HR\", \"Tech Support\"]\n",
    "    response: str"
   ]
  },
  {
   "cell_type": "code",
   "execution_count": 28,
   "id": "ec0f36f7",
   "metadata": {},
   "outputs": [],
   "source": [
    "graph =StateGraph(QuerysolverState)"
   ]
  },
  {
   "cell_type": "code",
   "execution_count": 29,
   "id": "539bd222",
   "metadata": {},
   "outputs": [],
   "source": [
    "def find_department(state:QuerysolverState):\n",
    "    prompt = f'For the following Query find out the Department \\n {state[\"query\"]} \\n Respond in the format: \\n Department: <HR or Tech Support> \\n Issue Summary: <A brief summary of the user\\'s issue or query>'\n",
    "    department = structured_model.invoke(prompt).department\n",
    "\n",
    "    return {\"department\":department}\n"
   ]
  },
  {
   "cell_type": "code",
   "execution_count": 30,
   "id": "5aa645c7",
   "metadata": {},
   "outputs": [],
   "source": [
    "def check_department(state:QuerysolverState)-> Literal[\"hr_response\",\"tech_response\"]:\n",
    "    if state[\"department\"] == \"HR\":\n",
    "        return \"hr_response\"\n",
    "    else:\n",
    "        return \"tech_response\""
   ]
  },
  {
   "cell_type": "code",
   "execution_count": 31,
   "id": "e1daa649",
   "metadata": {},
   "outputs": [],
   "source": [
    "def hr_response(state:QuerysolverState):\n",
    "    prompt = f'You are an HR assistant. Provide a concise and professional response to the following HR query: {state[\"query\"]}'\n",
    "    response = model.invoke(prompt)\n",
    "    return {\"response\":response}\n",
    "    "
   ]
  },
  {
   "cell_type": "code",
   "execution_count": 32,
   "id": "70c9f428",
   "metadata": {},
   "outputs": [],
   "source": [
    "def tech_response(state:QuerysolverState):\n",
    "    prompt = f'You are a Tech Support assistant. Provide a concise and professional response to the following technical query: {state[\"query\"]}'\n",
    "    response = model.invoke(prompt)\n",
    "    return {\"response\":response}"
   ]
  },
  {
   "cell_type": "code",
   "execution_count": 33,
   "id": "3422165a",
   "metadata": {},
   "outputs": [
    {
     "data": {
      "text/plain": [
       "<langgraph.graph.state.StateGraph at 0x226b8f2e3e0>"
      ]
     },
     "execution_count": 33,
     "metadata": {},
     "output_type": "execute_result"
    }
   ],
   "source": [
    "# nodes\n",
    "graph.add_node(\"find_department\",find_department)\n",
    "graph.add_node(\"hr_response\",hr_response)\n",
    "\n",
    "graph.add_node(\"tech_response\",tech_response)\n",
    "\n",
    "# Edges\n",
    "graph.add_edge(START,\"find_department\")\n",
    "graph.add_conditional_edges(\"find_department\",check_department)\n",
    "graph.add_edge(\"hr_response\",END)\n",
    "graph.add_edge(\"tech_response\",END)\n",
    "\n"
   ]
  },
  {
   "cell_type": "code",
   "execution_count": 34,
   "id": "1ffcc48c",
   "metadata": {},
   "outputs": [],
   "source": [
    "workflow = graph.compile()\n",
    "# display(Image(workflow.get_graph().draw_mermaid_png()))"
   ]
  },
  {
   "cell_type": "code",
   "execution_count": 39,
   "id": "acb8b840",
   "metadata": {},
   "outputs": [
    {
     "data": {
      "image/png": "[encoded data removed]",
      "text/plain": [
       "<IPython.core.display.Image object>"
      ]
     },
     "metadata": {},
     "output_type": "display_data"
    }
   ],
   "source": [
    "display(Image(workflow.get_graph().draw_mermaid_png()))"
   ]
  },
  {
   "cell_type": "code",
   "execution_count": 36,
   "id": "3b701c4d",
   "metadata": {},
   "outputs": [
    {
     "data": {
      "text/plain": [
       "{'query_summary': '',\n",
       " 'query': 'I want to know about the policies for taking leaves.and how many leaves do I have left this year?',\n",
       " 'department': 'HR',\n",
       " 'response': AIMessage(content=\"Hello!\\n\\nOur comprehensive leave policies, including details on vacation, sick, personal, and other types of leave, are fully outlined in the **Employee Handbook** and accessible on our **HR Portal**. These resources provide information on eligibility, request procedures, and guidelines. Please let me know if you have specific questions after reviewing them.\\n\\nRegarding your remaining leave balance for this year, you can easily check this information directly through our **HRIS system (e.g., Workday, ADP, BambooHR)**. If you encounter any issues accessing your balance or need assistance, please don't hesitate to reach out, and I'd be happy to help you look it up.\\n\\nBest regards,\\n\\n[Your Name/HR Department]\", additional_kwargs={}, response_metadata={'prompt_feedback': {'block_reason': 0, 'safety_ratings': []}, 'finish_reason': 'STOP', 'safety_ratings': []}, id='run--f14f0350-ce00-401d-a6ea-fa8bbae18261-0', usage_metadata={'input_tokens': 41, 'output_tokens': 149, 'total_tokens': 1180, 'input_token_details': {'cache_read': 0}})}"
      ]
     },
     "execution_count": 36,
     "metadata": {},
     "output_type": "execute_result"
    }
   ],
   "source": [
    "initial_state = {\"query\": \"I want to know about the policies for taking leaves.and how many leaves do I have left this year?\", \"query_summary\":\"\"}\n",
    "result = workflow.invoke(initial_state)\n",
    "result"
   ]
  },
  {
   "cell_type": "code",
   "execution_count": 38,
   "id": "a50150b3",
   "metadata": {},
   "outputs": [
    {
     "data": {
      "text/plain": [
       "\"Hello!\\n\\nOur comprehensive leave policies, including details on vacation, sick, personal, and other types of leave, are fully outlined in the **Employee Handbook** and accessible on our **HR Portal**. These resources provide information on eligibility, request procedures, and guidelines. Please let me know if you have specific questions after reviewing them.\\n\\nRegarding your remaining leave balance for this year, you can easily check this information directly through our **HRIS system (e.g., Workday, ADP, BambooHR)**. If you encounter any issues accessing your balance or need assistance, please don't hesitate to reach out, and I'd be happy to help you look it up.\\n\\nBest regards,\\n\\n[Your Name/HR Department]\""
      ]
     },
     "execution_count": 38,
     "metadata": {},
     "output_type": "execute_result"
    }
   ],
   "source": [
    "result[\"response\"].content"
   ]
  },
  {
   "cell_type": "code",
   "execution_count": null,
   "id": "faa17e50",
   "metadata": {},
   "outputs": [],
   "source": []
  }
 ],
 "metadata": {
  "kernelspec": {
   "display_name": "Agent",
   "language": "python",
   "name": "python3"
  },
  "language_info": {
   "codemirror_mode": {
    "name": "ipython",
    "version": 3
   },
   "file_extension": ".py",
   "mimetype": "text/x-python",
   "name": "python",
   "nbconvert_exporter": "python",
   "pygments_lexer": "ipython3",
   "version": "3.10.18"
  }
 },
 "nbformat": 4,
 "nbformat_minor": 5
}
