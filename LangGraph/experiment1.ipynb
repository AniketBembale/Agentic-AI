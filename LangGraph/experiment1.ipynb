{
 "cells": [
  {
   "cell_type": "code",
   "execution_count": 4,
   "id": "cbce9cd6",
   "metadata": {},
   "outputs": [
    {
     "name": "stderr",
     "output_type": "stream",
     "text": [
      "c:\\Users\\Aniket\\.conda\\envs\\Agent\\lib\\site-packages\\tqdm\\auto.py:21: TqdmWarning: IProgress not found. Please update jupyter and ipywidgets. See https://ipywidgets.readthedocs.io/en/stable/user_install.html\n",
      "  from .autonotebook import tqdm as notebook_tqdm\n"
     ]
    }
   ],
   "source": [
    "from dotenv import load_dotenv\n",
    "import os\n",
    "from langchain_google_genai import ChatGoogleGenerativeAI"
   ]
  },
  {
   "cell_type": "code",
   "execution_count": 5,
   "id": "99acfd04",
   "metadata": {},
   "outputs": [],
   "source": [
    "load_dotenv()\n",
    "model = ChatGoogleGenerativeAI(\n",
    "    model=\"gemini-2.5-flash\",\n",
    "    temperature=0,\n",
    "    max_tokens=None,\n",
    "    timeout=None,\n",
    "    max_retries=2,\n",
    "    # other params...\n",
    ")\n"
   ]
  },
  {
   "cell_type": "code",
   "execution_count": 6,
   "id": "c7dc8b75",
   "metadata": {},
   "outputs": [
    {
     "name": "stdout",
     "output_type": "stream",
     "text": [
      "Albert Einstein's theory of relativity is actually two interconnected theories: **Special Relativity** (1905) and **General Relativity** (1915). Together, they completely changed our understanding of space, time, gravity, and the universe.\n",
      "\n",
      "Here's a breakdown in simple terms:\n",
      "\n",
      "---\n",
      "\n",
      "### The Core Idea: Space and Time are Not Absolute\n",
      "\n",
      "Before Einstein, people thought space was like a fixed, unchanging stage where events happened, and time was a universal clock ticking away the same for everyone. Einstein showed that this isn't true. Instead, space and time are flexible and interconnected, forming something called **spacetime**. How you experience them depends on your motion and the presence of massive objects.\n",
      "\n",
      "---\n",
      "\n",
      "### 1. Special Relativity (SR): The Rules for Constant Motion\n",
      "\n",
      "This theory deals with how space and time behave for objects moving at **constant speeds** (not accelerating). It's built on two main ideas:\n",
      "\n",
      "1.  **The Speed of Light is Constant for Everyone:** No matter how fast you're moving, or in what direction, if you measure the speed of light in a vacuum, you will *always* get the same answer (about 300,000 kilometers per second or 186,000 miles per second). This is the universe's ultimate speed limit.\n",
      "    *   **Why this is weird:** Imagine you're in a car going 60 mph and you throw a ball forward at 20 mph. Someone standing still would see the ball moving at 80 mph. But if you shine a flashlight forward, both you and the person standing still would measure the light moving at the *exact same speed*. This seems impossible, but it's true!\n",
      "\n",
      "2.  **The Laws of Physics are the Same for Everyone in Constant Motion:** If you're in a windowless room on a train moving smoothly at a constant speed, you can't tell if you're moving or standing still without looking outside. All the physics experiments you do inside will give the same results.\n",
      "\n",
      "**What these ideas lead to (the \"weird\" stuff):**\n",
      "\n",
      "*   **Time Dilation (Time Slows Down):** If you're moving very fast relative to someone else, your clock will tick slower than theirs. From your perspective, their clock will tick slower. The faster you go, the slower time passes for you.\n",
      "    *   *Example:* An astronaut traveling near the speed of light would age less than their twin who stayed on Earth.\n",
      "*   **Length Contraction (Things Get Shorter):** Objects moving very fast appear to get shorter in the direction of their motion, from the perspective of someone standing still.\n",
      "*   **Mass-Energy Equivalence (E=mc²):** This is the most famous equation! It tells us that mass and energy are two forms of the same thing and can be converted into each other. A small amount of mass can be converted into a huge amount of energy (like in nuclear reactions, or how the sun produces energy).\n",
      "    *   *Simple idea:* Mass is essentially \"frozen\" energy.\n",
      "\n",
      "**In short, for Special Relativity:** When things move very fast, space and time stretch and squeeze to make sure the speed of light remains constant for everyone.\n",
      "\n",
      "---\n",
      "\n",
      "### 2. General Relativity (GR): Gravity as Curved Spacetime\n",
      "\n",
      "This theory came 10 years later and brought **gravity** into the picture. It's much more complex but has a beautiful core idea:\n",
      "\n",
      "1.  **Gravity is Not a Force, but a Curvature of Spacetime:** Newton thought gravity was a mysterious force pulling objects together. Einstein said that's wrong. Instead, massive objects (like planets, stars, and black holes) **warp or curve the fabric of spacetime** around them, much like a bowling ball placed on a stretched rubber sheet.\n",
      "    *   **Analogy:** Imagine a stretched trampoline. If you place a bowling ball in the middle, it creates a dip. If you then roll a marble nearby, the marble won't roll in a straight line; it will curve inwards towards the bowling ball, not because the bowling ball is \"pulling\" it, but because it's following the curve in the trampoline.\n",
      "    *   **How it applies:** Planets orbit the Sun not because the Sun is \"pulling\" them with a force, but because the Sun's immense mass has curved the spacetime around it, and the planets are simply following the shortest path through that curved spacetime.\n",
      "\n",
      "**What this idea leads to:**\n",
      "\n",
      "*   **Gravitational Time Dilation:** Time runs slower in stronger gravitational fields. The closer you are to a massive object (like Earth), the slower your clock will tick compared to someone further away.\n",
      "    *   *Example:* Clocks on Earth's surface run slightly slower than clocks on satellites in orbit. GPS systems have to account for this (and Special Relativity's time dilation) to work accurately!\n",
      "*   **Light Bending:** Since light travels through spacetime, its path also gets bent by massive objects. This means light from distant stars can be deflected as it passes near a galaxy or a black hole.\n",
      "    *   *Example:* We can see stars that are actually \"behind\" the Sun during a solar eclipse because the Sun's gravity bends their light around it. This is called gravitational lensing.\n",
      "*   **Black Holes:** These are regions where spacetime is curved so extremely (due to an incredibly dense mass) that nothing, not even light, can escape.\n",
      "*   **Expanding Universe:** General Relativity's equations also predicted that the universe could be expanding, which we now know is true.\n",
      "\n",
      "---\n",
      "\n",
      "### In a Nutshell:\n",
      "\n",
      "*   **Special Relativity:** Deals with constant motion and shows that space and time are relative to your speed, leading to time dilation, length contraction, and E=mc².\n",
      "*   **General Relativity:** Deals with gravity and shows that massive objects curve spacetime, and this curvature is what we perceive as gravity. This explains why planets orbit, why light bends, and why time slows down near massive objects.\n",
      "\n",
      "Together, these theories paint a picture of a dynamic, interconnected universe where space and time are not fixed backdrops, but active participants shaped by matter and energy.\n"
     ]
    }
   ],
   "source": [
    "result = model.invoke(\"Explain the theory of relativity in simple terms.\")\n",
    "print(result.content)"
   ]
  },
  {
   "cell_type": "code",
   "execution_count": 10,
   "id": "074d86fa",
   "metadata": {},
   "outputs": [
    {
     "ename": "ImportError",
     "evalue": "cannot import name 'open_filename' from 'pdfminer.utils' (c:\\Users\\Aniket\\.conda\\envs\\Agent\\lib\\site-packages\\pdfminer\\utils.py)",
     "output_type": "error",
     "traceback": [
      "\u001b[1;31m---------------------------------------------------------------------------\u001b[0m",
      "\u001b[1;31mImportError\u001b[0m                               Traceback (most recent call last)",
      "Cell \u001b[1;32mIn[10], line 1\u001b[0m\n\u001b[1;32m----> 1\u001b[0m \u001b[38;5;28;01mfrom\u001b[39;00m\u001b[38;5;250m \u001b[39m\u001b[38;5;21;01munstructured\u001b[39;00m\u001b[38;5;21;01m.\u001b[39;00m\u001b[38;5;21;01mpartition\u001b[39;00m\u001b[38;5;21;01m.\u001b[39;00m\u001b[38;5;21;01mpdf\u001b[39;00m\u001b[38;5;250m \u001b[39m\u001b[38;5;28;01mimport\u001b[39;00m partition_pdf\n\u001b[0;32m      3\u001b[0m output_path \u001b[38;5;241m=\u001b[39m \u001b[38;5;124m\"\u001b[39m\u001b[38;5;124m./LangGraph/\u001b[39m\u001b[38;5;124m\"\u001b[39m\n\u001b[0;32m      4\u001b[0m file_path \u001b[38;5;241m=\u001b[39m output_path \u001b[38;5;241m+\u001b[39m \u001b[38;5;124m'\u001b[39m\u001b[38;5;124mattention.pdf\u001b[39m\u001b[38;5;124m'\u001b[39m\n",
      "File \u001b[1;32mc:\\Users\\Aniket\\.conda\\envs\\Agent\\lib\\site-packages\\unstructured\\partition\\pdf.py:15\u001b[0m\n\u001b[0;32m     13\u001b[0m \u001b[38;5;28;01mimport\u001b[39;00m\u001b[38;5;250m \u001b[39m\u001b[38;5;21;01mwrapt\u001b[39;00m\n\u001b[0;32m     14\u001b[0m \u001b[38;5;28;01mfrom\u001b[39;00m\u001b[38;5;250m \u001b[39m\u001b[38;5;21;01mpdfminer\u001b[39;00m\u001b[38;5;21;01m.\u001b[39;00m\u001b[38;5;21;01mlayout\u001b[39;00m\u001b[38;5;250m \u001b[39m\u001b[38;5;28;01mimport\u001b[39;00m LTContainer, LTImage, LTItem, LTTextBox\n\u001b[1;32m---> 15\u001b[0m \u001b[38;5;28;01mfrom\u001b[39;00m\u001b[38;5;250m \u001b[39m\u001b[38;5;21;01mpdfminer\u001b[39;00m\u001b[38;5;21;01m.\u001b[39;00m\u001b[38;5;21;01mutils\u001b[39;00m\u001b[38;5;250m \u001b[39m\u001b[38;5;28;01mimport\u001b[39;00m open_filename\n\u001b[0;32m     16\u001b[0m \u001b[38;5;28;01mfrom\u001b[39;00m\u001b[38;5;250m \u001b[39m\u001b[38;5;21;01mpi_heif\u001b[39;00m\u001b[38;5;250m \u001b[39m\u001b[38;5;28;01mimport\u001b[39;00m register_heif_opener\n\u001b[0;32m     17\u001b[0m \u001b[38;5;28;01mfrom\u001b[39;00m\u001b[38;5;250m \u001b[39m\u001b[38;5;21;01mPIL\u001b[39;00m\u001b[38;5;250m \u001b[39m\u001b[38;5;28;01mimport\u001b[39;00m Image \u001b[38;5;28;01mas\u001b[39;00m PILImage\n",
      "\u001b[1;31mImportError\u001b[0m: cannot import name 'open_filename' from 'pdfminer.utils' (c:\\Users\\Aniket\\.conda\\envs\\Agent\\lib\\site-packages\\pdfminer\\utils.py)"
     ]
    }
   ],
   "source": [
    "from unstructured.partition.pdf import partition_pdf\n",
    "\n",
    "output_path = \"./LangGraph/\"\n",
    "file_path = output_path + 'attention.pdf'\n",
    "\n",
    "# Reference: https://docs.unstructured.io/open-source/core-functionality/chunking\n",
    "chunks = partition_pdf(\n",
    "    filename=file_path,\n",
    "    infer_table_structure=True,            # extract tables\n",
    "    strategy=\"hi_res\",                     # mandatory to infer tables\n",
    "\n",
    "    extract_image_block_types=[\"Image\"],   # Add 'Table' to list to extract image of tables\n",
    "    # image_output_dir_path=output_path,   # if None, images and tables will saved in base64\n",
    "\n",
    "    extract_image_block_to_payload=True,   # if true, will extract base64 for API usage\n",
    "\n",
    "    chunking_strategy=\"by_title\",          # or 'basic'\n",
    "    max_characters=10000,                  # defaults to 500\n",
    "    combine_text_under_n_chars=2000,       # defaults to 0\n",
    "    new_after_n_chars=6000,\n",
    "\n",
    "    # extract_images_in_pdf=True,          # deprecated\n",
    ")"
   ]
  },
  {
   "cell_type": "code",
   "execution_count": null,
   "id": "910e4ed3",
   "metadata": {},
   "outputs": [],
   "source": []
  }
 ],
 "metadata": {
  "kernelspec": {
   "display_name": "Agent",
   "language": "python",
   "name": "python3"
  },
  "language_info": {
   "codemirror_mode": {
    "name": "ipython",
    "version": 3
   },
   "file_extension": ".py",
   "mimetype": "text/x-python",
   "name": "python",
   "nbconvert_exporter": "python",
   "pygments_lexer": "ipython3",
   "version": "3.10.18"
  }
 },
 "nbformat": 4,
 "nbformat_minor": 5
}
