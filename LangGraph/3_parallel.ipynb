{
 "cells": [
  {
   "cell_type": "code",
   "execution_count": 1,
   "id": "edf6f40e",
   "metadata": {},
   "outputs": [],
   "source": [
    "import operator\n",
    "from typing import Annotated, Any, Sequence\n",
    "from typing_extensions import TypedDict\n",
    "from langgraph.graph import StateGraph, START, END\n"
   ]
  },
  {
   "cell_type": "code",
   "execution_count": 2,
   "id": "3abf5a08",
   "metadata": {},
   "outputs": [],
   "source": [
    "class State(TypedDict):\n",
    "    aggregate: Annotated[list, operator.add]"
   ]
  },
  {
   "cell_type": "code",
   "execution_count": 3,
   "id": "d35e2fb5",
   "metadata": {},
   "outputs": [],
   "source": [
    "from typing import Any\n",
    "\n",
    "\n",
    "class ReturnNodeValue:\n",
    "    def __init__(self, msg: str) -> None:\n",
    "        self._value = msg\n",
    "\n",
    "    def __call__(self, state: State) -> Any:\n",
    "        print(f\" I am going to save {self._value} to {state['aggregate']}\")\n",
    "        return {\"aggregate\": [self._value]}"
   ]
  },
  {
   "cell_type": "code",
   "execution_count": null,
   "id": "6a087363",
   "metadata": {},
   "outputs": [],
   "source": [
    "# Flow 1"
   ]
  },
  {
   "cell_type": "code",
   "execution_count": 4,
   "id": "a8eef8a5",
   "metadata": {},
   "outputs": [],
   "source": [
    "builder = StateGraph(State)"
   ]
  },
  {
   "cell_type": "code",
   "execution_count": 5,
   "id": "3224f6bd",
   "metadata": {},
   "outputs": [],
   "source": [
    "a = ReturnNodeValue(\"I am A\")\n",
    "b = ReturnNodeValue(\"I am B\")\n",
    "c = ReturnNodeValue(\"I am C\")\n",
    "d = ReturnNodeValue(\"I am D\")\n"
   ]
  },
  {
   "cell_type": "code",
   "execution_count": 6,
   "id": "fbef920e",
   "metadata": {},
   "outputs": [
    {
     "data": {
      "text/plain": [
       "<langgraph.graph.state.StateGraph at 0x20b2687bdc0>"
      ]
     },
     "execution_count": 6,
     "metadata": {},
     "output_type": "execute_result"
    }
   ],
   "source": [
    "builder.add_node(\"a\", a)\n",
    "builder.add_node(\"b\", b)\n",
    "builder.add_node(\"c\", c)\n",
    "builder.add_node(\"d\", d)"
   ]
  },
  {
   "cell_type": "code",
   "execution_count": 7,
   "id": "f732f12f",
   "metadata": {},
   "outputs": [
    {
     "data": {
      "text/plain": [
       "<langgraph.graph.state.StateGraph at 0x20b2687bdc0>"
      ]
     },
     "execution_count": 7,
     "metadata": {},
     "output_type": "execute_result"
    }
   ],
   "source": [
    "builder.add_edge(START, \"a\")\n",
    "builder.add_edge(\"a\",\"b\")\n",
    "builder.add_edge(\"a\", \"c\")\n",
    "builder.add_edge(\"b\",\"d\")\n",
    "builder.add_edge(\"c\",\"d\")\n",
    "builder.add_edge(\"d\", END)"
   ]
  },
  {
   "cell_type": "code",
   "execution_count": 8,
   "id": "1210073a",
   "metadata": {},
   "outputs": [],
   "source": [
    "graph = builder.compile()"
   ]
  },
  {
   "cell_type": "code",
   "execution_count": 9,
   "id": "8deb40aa",
   "metadata": {},
   "outputs": [
    {
     "data": {
      "image/png": "[encoded data removed]",
      "text/plain": [
       "<IPython.core.display.Image object>"
      ]
     },
     "metadata": {},
     "output_type": "display_data"
    }
   ],
   "source": [
    "from IPython.display import Image, display\n",
    "display(Image(graph.get_graph().draw_mermaid_png()))"
   ]
  },
  {
   "cell_type": "code",
   "execution_count": 10,
   "id": "6c3140cb",
   "metadata": {},
   "outputs": [
    {
     "name": "stdout",
     "output_type": "stream",
     "text": [
      " I am going to save I am A to []\n",
      " I am going to save I am B to ['I am A']\n",
      " I am going to save I am C to ['I am A']\n",
      " I am going to save I am D to ['I am A', 'I am B', 'I am C']\n"
     ]
    },
    {
     "data": {
      "text/plain": [
       "{'aggregate': ['I am A', 'I am B', 'I am C', 'I am D']}"
      ]
     },
     "execution_count": 10,
     "metadata": {},
     "output_type": "execute_result"
    }
   ],
   "source": [
    "graph.invoke({\"aggregate\": []})"
   ]
  },
  {
   "cell_type": "code",
   "execution_count": 11,
   "id": "64ddb2bd",
   "metadata": {},
   "outputs": [],
   "source": [
    "# Flow 2"
   ]
  },
  {
   "cell_type": "code",
   "execution_count": 12,
   "id": "4a84f7de",
   "metadata": {},
   "outputs": [],
   "source": [
    "\n",
    "builder = StateGraph(State)\n"
   ]
  },
  {
   "cell_type": "code",
   "execution_count": 13,
   "id": "230317cd",
   "metadata": {},
   "outputs": [],
   "source": [
    "a = ReturnNodeValue(\"I am A\")\n",
    "b = ReturnNodeValue(\"I am B\")\n",
    "b2 = ReturnNodeValue(\"I am B2\")\n",
    "c = ReturnNodeValue(\"I am C\")\n",
    "d = ReturnNodeValue(\"I am D\")"
   ]
  },
  {
   "cell_type": "code",
   "execution_count": 14,
   "id": "f4192b2c",
   "metadata": {},
   "outputs": [
    {
     "data": {
      "text/plain": [
       "<langgraph.graph.state.StateGraph at 0x20b27b98910>"
      ]
     },
     "execution_count": 14,
     "metadata": {},
     "output_type": "execute_result"
    }
   ],
   "source": [
    "builder.add_node(\"a\", a)\n",
    "builder.add_node(\"b\", b)\n",
    "builder.add_node(\"c\", c)\n",
    "builder.add_node(\"d\", d)\n",
    "builder.add_node(\"b2\",b2)"
   ]
  },
  {
   "cell_type": "code",
   "execution_count": 15,
   "id": "3403c6b8",
   "metadata": {},
   "outputs": [
    {
     "data": {
      "text/plain": [
       "<langgraph.graph.state.StateGraph at 0x20b27b98910>"
      ]
     },
     "execution_count": 15,
     "metadata": {},
     "output_type": "execute_result"
    }
   ],
   "source": [
    "builder.add_edge(START, \"a\")\n",
    "builder.add_edge(\"a\",\"b\")\n",
    "builder.add_edge(\"a\", \"c\")\n",
    "builder.add_edge(\"b\",\"b2\")\n",
    "builder.add_edge(\"b2\", \"d\")\n",
    "builder.add_edge(\"c\",\"d\")\n",
    "builder.add_edge(\"d\", END)\n"
   ]
  },
  {
   "cell_type": "code",
   "execution_count": 16,
   "id": "608601df",
   "metadata": {},
   "outputs": [],
   "source": [
    "graph = builder.compile()"
   ]
  },
  {
   "cell_type": "code",
   "execution_count": 17,
   "id": "fa361be2",
   "metadata": {},
   "outputs": [
    {
     "data": {
      "image/png": "[encoded data removed]",
      "text/plain": [
       "<IPython.core.display.Image object>"
      ]
     },
     "metadata": {},
     "output_type": "display_data"
    }
   ],
   "source": [
    "\n",
    "from IPython.display import Image, display\n",
    "display(Image(graph.get_graph().draw_mermaid_png()))"
   ]
  },
  {
   "cell_type": "code",
   "execution_count": 18,
   "id": "a1662a65",
   "metadata": {},
   "outputs": [
    {
     "name": "stdout",
     "output_type": "stream",
     "text": [
      " I am going to save I am A to []\n",
      " I am going to save I am B to ['I am A']\n",
      " I am going to save I am C to ['I am A']\n",
      " I am going to save I am B2 to ['I am A', 'I am B', 'I am C']\n",
      " I am going to save I am D to ['I am A', 'I am B', 'I am C']\n",
      " I am going to save I am D to ['I am A', 'I am B', 'I am C', 'I am B2', 'I am D']\n"
     ]
    },
    {
     "data": {
      "text/plain": [
       "{'aggregate': ['I am A', 'I am B', 'I am C', 'I am B2', 'I am D', 'I am D']}"
      ]
     },
     "execution_count": 18,
     "metadata": {},
     "output_type": "execute_result"
    }
   ],
   "source": [
    "graph.invoke({\"aggregate\": []})"
   ]
  },
  {
   "cell_type": "code",
   "execution_count": null,
   "id": "f9d35ad7",
   "metadata": {},
   "outputs": [],
   "source": []
  }
 ],
 "metadata": {
  "kernelspec": {
   "display_name": "Agent",
   "language": "python",
   "name": "python3"
  },
  "language_info": {
   "codemirror_mode": {
    "name": "ipython",
    "version": 3
   },
   "file_extension": ".py",
   "mimetype": "text/x-python",
   "name": "python",
   "nbconvert_exporter": "python",
   "pygments_lexer": "ipython3",
   "version": "3.10.18"
  }
 },
 "nbformat": 4,
 "nbformat_minor": 5
}
